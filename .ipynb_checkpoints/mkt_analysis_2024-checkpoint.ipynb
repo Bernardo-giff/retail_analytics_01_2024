{
 "cells": [
  {
   "cell_type": "code",
   "execution_count": 1,
   "metadata": {},
   "outputs": [],
   "source": [
    "import pandas as pd"
   ]
  },
  {
   "cell_type": "markdown",
   "metadata": {},
   "source": [
    "Define an inbound account as an account where its first **created** order came from inbound (i.e: associated with an opp with the flag is from pro form)\n",
    "\n",
    "Potential limitations\n",
    "\n",
    "1. Maybe the first order was a test, maybe if failed from another source and then the account came back some time later. We will simply ignore these cases\n",
    "\n"
   ]
  },
  {
   "cell_type": "code",
   "execution_count": 15,
   "metadata": {},
   "outputs": [
    {
     "data": {
      "text/html": [
       "<div>\n",
       "<style scoped>\n",
       "    .dataframe tbody tr th:only-of-type {\n",
       "        vertical-align: middle;\n",
       "    }\n",
       "\n",
       "    .dataframe tbody tr th {\n",
       "        vertical-align: top;\n",
       "    }\n",
       "\n",
       "    .dataframe thead th {\n",
       "        text-align: right;\n",
       "    }\n",
       "</style>\n",
       "<table border=\"1\" class=\"dataframe\">\n",
       "  <thead>\n",
       "    <tr style=\"text-align: right;\">\n",
       "      <th></th>\n",
       "      <th>campaignId</th>\n",
       "      <th>campaignName</th>\n",
       "      <th>dateHourMinute</th>\n",
       "      <th>eventName</th>\n",
       "      <th>sessions</th>\n",
       "    </tr>\n",
       "  </thead>\n",
       "  <tbody>\n",
       "    <tr>\n",
       "      <th>0</th>\n",
       "      <td>(not set)</td>\n",
       "      <td>(referral)</td>\n",
       "      <td>2023-02-02 14:55:00+00:00</td>\n",
       "      <td>general_mql</td>\n",
       "      <td>1</td>\n",
       "    </tr>\n",
       "    <tr>\n",
       "      <th>1</th>\n",
       "      <td>(not set)</td>\n",
       "      <td>(referral)</td>\n",
       "      <td>2023-02-03 14:29:00+00:00</td>\n",
       "      <td>general_mql</td>\n",
       "      <td>1</td>\n",
       "    </tr>\n",
       "    <tr>\n",
       "      <th>2</th>\n",
       "      <td>(not set)</td>\n",
       "      <td>(referral)</td>\n",
       "      <td>2023-02-04 13:16:00+00:00</td>\n",
       "      <td>general_mql</td>\n",
       "      <td>1</td>\n",
       "    </tr>\n",
       "    <tr>\n",
       "      <th>3</th>\n",
       "      <td>(not set)</td>\n",
       "      <td>(referral)</td>\n",
       "      <td>2023-02-05 14:09:00+00:00</td>\n",
       "      <td>general_mql</td>\n",
       "      <td>1</td>\n",
       "    </tr>\n",
       "    <tr>\n",
       "      <th>4</th>\n",
       "      <td>(not set)</td>\n",
       "      <td>(referral)</td>\n",
       "      <td>2023-02-05 14:10:00+00:00</td>\n",
       "      <td>general_mql</td>\n",
       "      <td>1</td>\n",
       "    </tr>\n",
       "  </tbody>\n",
       "</table>\n",
       "</div>"
      ],
      "text/plain": [
       "  campaignId campaignName            dateHourMinute    eventName  sessions\n",
       "0  (not set)   (referral) 2023-02-02 14:55:00+00:00  general_mql         1\n",
       "1  (not set)   (referral) 2023-02-03 14:29:00+00:00  general_mql         1\n",
       "2  (not set)   (referral) 2023-02-04 13:16:00+00:00  general_mql         1\n",
       "3  (not set)   (referral) 2023-02-05 14:09:00+00:00  general_mql         1\n",
       "4  (not set)   (referral) 2023-02-05 14:10:00+00:00  general_mql         1"
      ]
     },
     "execution_count": 15,
     "metadata": {},
     "output_type": "execute_result"
    }
   ],
   "source": [
    "general_mql_events = pd.read_csv('data/general_mql_events.csv')\n",
    "\n",
    "\n",
    "general_mql_events['dateHourMinute'] = pd.to_datetime(general_mql_events['dateHourMinute'], format='%Y%m%d%H%M')\n",
    "\n",
    "# Localize the dateHourMinute column to the 'CET' timezone\n",
    "general_mql_events['dateHourMinute'] = general_mql_events['dateHourMinute'].dt.tz_localize('CET')\n",
    "\n",
    "# Convert the dateHourMinute column to its UTC equivalent\n",
    "general_mql_events['dateHourMinute'] = general_mql_events['dateHourMinute'].dt.tz_convert('UTC')\n",
    "\n",
    "general_mql_events.head()"
   ]
  },
  {
   "cell_type": "code",
   "execution_count": 16,
   "metadata": {},
   "outputs": [
    {
     "data": {
      "text/html": [
       "<div>\n",
       "<style scoped>\n",
       "    .dataframe tbody tr th:only-of-type {\n",
       "        vertical-align: middle;\n",
       "    }\n",
       "\n",
       "    .dataframe tbody tr th {\n",
       "        vertical-align: top;\n",
       "    }\n",
       "\n",
       "    .dataframe thead th {\n",
       "        text-align: right;\n",
       "    }\n",
       "</style>\n",
       "<table border=\"1\" class=\"dataframe\">\n",
       "  <thead>\n",
       "    <tr style=\"text-align: right;\">\n",
       "      <th></th>\n",
       "      <th>campaignId</th>\n",
       "      <th>campaignName</th>\n",
       "      <th>dateHourMinute</th>\n",
       "      <th>eventName</th>\n",
       "      <th>sessions</th>\n",
       "    </tr>\n",
       "  </thead>\n",
       "  <tbody>\n",
       "    <tr>\n",
       "      <th>1181</th>\n",
       "      <td>17207660116</td>\n",
       "      <td>GER_Search_GEN</td>\n",
       "      <td>2023-02-13 00:36:00+00:00</td>\n",
       "      <td>general_mql</td>\n",
       "      <td>1</td>\n",
       "    </tr>\n",
       "    <tr>\n",
       "      <th>1182</th>\n",
       "      <td>17207660116</td>\n",
       "      <td>GER_Search_GEN</td>\n",
       "      <td>2023-02-15 11:22:00+00:00</td>\n",
       "      <td>general_mql</td>\n",
       "      <td>1</td>\n",
       "    </tr>\n",
       "    <tr>\n",
       "      <th>1183</th>\n",
       "      <td>17207660116</td>\n",
       "      <td>GER_Search_GEN</td>\n",
       "      <td>2023-02-18 01:08:00+00:00</td>\n",
       "      <td>general_mql</td>\n",
       "      <td>1</td>\n",
       "    </tr>\n",
       "    <tr>\n",
       "      <th>1184</th>\n",
       "      <td>17207660116</td>\n",
       "      <td>GER_Search_GEN</td>\n",
       "      <td>2023-02-20 08:43:00+00:00</td>\n",
       "      <td>general_mql</td>\n",
       "      <td>1</td>\n",
       "    </tr>\n",
       "    <tr>\n",
       "      <th>1185</th>\n",
       "      <td>17207660116</td>\n",
       "      <td>GER_Search_GEN</td>\n",
       "      <td>2023-02-28 11:07:00+00:00</td>\n",
       "      <td>general_mql</td>\n",
       "      <td>1</td>\n",
       "    </tr>\n",
       "  </tbody>\n",
       "</table>\n",
       "</div>"
      ],
      "text/plain": [
       "       campaignId    campaignName            dateHourMinute    eventName  \\\n",
       "1181  17207660116  GER_Search_GEN 2023-02-13 00:36:00+00:00  general_mql   \n",
       "1182  17207660116  GER_Search_GEN 2023-02-15 11:22:00+00:00  general_mql   \n",
       "1183  17207660116  GER_Search_GEN 2023-02-18 01:08:00+00:00  general_mql   \n",
       "1184  17207660116  GER_Search_GEN 2023-02-20 08:43:00+00:00  general_mql   \n",
       "1185  17207660116  GER_Search_GEN 2023-02-28 11:07:00+00:00  general_mql   \n",
       "\n",
       "      sessions  \n",
       "1181         1  \n",
       "1182         1  \n",
       "1183         1  \n",
       "1184         1  \n",
       "1185         1  "
      ]
     },
     "execution_count": 16,
     "metadata": {},
     "output_type": "execute_result"
    }
   ],
   "source": [
    "# Define events from search campaings\n",
    "general_mql_from_campaign = general_mql_events[general_mql_events['campaignId'] != '(not set)']\n",
    "\n",
    "# Print the results\n",
    "general_mql_from_campaign.head()"
   ]
  },
  {
   "cell_type": "code",
   "execution_count": 2,
   "metadata": {},
   "outputs": [
    {
     "ename": "ImportError",
     "evalue": "cannot import name 'sql' from 'databricks' (C:\\Users\\Bernardo Carvalho\\anaconda3\\lib\\site-packages\\databricks\\__init__.py)",
     "output_type": "error",
     "traceback": [
      "\u001b[1;31m---------------------------------------------------------------------------\u001b[0m",
      "\u001b[1;31mImportError\u001b[0m                               Traceback (most recent call last)",
      "Cell \u001b[1;32mIn[2], line 1\u001b[0m\n\u001b[1;32m----> 1\u001b[0m \u001b[38;5;28;01mfrom\u001b[39;00m \u001b[38;5;21;01mdatabricks\u001b[39;00m \u001b[38;5;28;01mimport\u001b[39;00m sql\n\u001b[0;32m      3\u001b[0m connection \u001b[38;5;241m=\u001b[39m sql\u001b[38;5;241m.\u001b[39mconnect(server_hostname \u001b[38;5;241m=\u001b[39m DATABRICKS_SERVER_HOSTNAME,\n\u001b[0;32m      4\u001b[0m                          http_path       \u001b[38;5;241m=\u001b[39m DATABRICKS_HTTP_PATH,\n\u001b[0;32m      5\u001b[0m                          access_token    \u001b[38;5;241m=\u001b[39m DATABRICKS_TOKEN)\n\u001b[0;32m      7\u001b[0m cursor \u001b[38;5;241m=\u001b[39m connection\u001b[38;5;241m.\u001b[39mcursor()\n",
      "\u001b[1;31mImportError\u001b[0m: cannot import name 'sql' from 'databricks' (C:\\Users\\Bernardo Carvalho\\anaconda3\\lib\\site-packages\\databricks\\__init__.py)"
     ]
    }
   ],
   "source": [
    "from databricks import sql\n",
    "\n",
    "connection = sql.connect(server_hostname = DATABRICKS_SERVER_HOSTNAME,\n",
    "                         http_path       = DATABRICKS_HTTP_PATH,\n",
    "                         access_token    = DATABRICKS_TOKEN)\n",
    "\n",
    "cursor = connection.cursor()"
   ]
  },
  {
   "cell_type": "code",
   "execution_count": 3,
   "metadata": {},
   "outputs": [],
   "source": [
    "import databricks"
   ]
  },
  {
   "cell_type": "code",
   "execution_count": 4,
   "metadata": {},
   "outputs": [
    {
     "name": "stdout",
     "output_type": "stream",
     "text": [
      "Help on package databricks:\n",
      "\n",
      "NAME\n",
      "    databricks\n",
      "\n",
      "PACKAGE CONTENTS\n",
      "\n",
      "\n",
      "FUNCTIONS\n",
      "    f()\n",
      "    \n",
      "    g(arg)\n",
      "    \n",
      "    version()\n",
      "\n",
      "FILE\n",
      "    c:\\users\\bernardo carvalho\\anaconda3\\lib\\site-packages\\databricks\\__init__.py\n",
      "\n",
      "\n"
     ]
    }
   ],
   "source": [
    "help(databricks)"
   ]
  },
  {
   "cell_type": "code",
   "execution_count": 9,
   "metadata": {},
   "outputs": [],
   "source": [
    "# Read databrics.txt file\n",
    "with open('keys/databricks.txt', 'r') as file:\n",
    "    databricks = file.read()\n",
    "# Store each row in one variable\n",
    "databricks = databricks.split('\\n')\n",
    "DATABRICKS_SERVER_HOSTNAME = databricks[0]\n",
    "DATABRICKS_HTTP_PATH = databricks[1]\n",
    "DATABRICKS_TOKEN = databricks[2]"
   ]
  }
 ],
 "metadata": {
  "kernelspec": {
   "display_name": "Python 3 (ipykernel)",
   "language": "python",
   "name": "python3"
  },
  "language_info": {
   "codemirror_mode": {
    "name": "ipython",
    "version": 3
   },
   "file_extension": ".py",
   "mimetype": "text/x-python",
   "name": "python",
   "nbconvert_exporter": "python",
   "pygments_lexer": "ipython3",
   "version": "3.8.16"
  }
 },
 "nbformat": 4,
 "nbformat_minor": 2
}
